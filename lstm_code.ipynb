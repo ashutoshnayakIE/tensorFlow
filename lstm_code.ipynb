{
 "cells": [
  {
   "cell_type": "markdown",
   "metadata": {},
   "source": [
    "In this file, a lstm model is used <br>\n",
    "Rest of the code for data input is same as in previous model"
   ]
  },
  {
   "cell_type": "markdown",
   "metadata": {},
   "source": [
    "Code for setting up the LSTM parameters\n",
    "\n",
    "n_input: dimension of X <br>\n",
    "n_steps: the number of time steps (stages)<br>\n",
    "n_hidden: the number of hidden units<br>\n",
    "num_layers: the number of LSTM layers<br>\n",
    "n_classes: dimension of Y<br>"
   ]
  },
  {
   "cell_type": "code",
   "execution_count": null,
   "metadata": {
    "collapsed": true
   },
   "outputs": [],
   "source": [
    "n_input = p\n",
    "n_steps = 10\n",
    "n_hidden = 200  # should be more than the number of input units\n",
    "num_layers = 2\n",
    "n_classes = p"
   ]
  },
  {
   "cell_type": "markdown",
   "metadata": {},
   "source": [
    "Setting the dimension for the input and output data (placeholders)"
   ]
  },
  {
   "cell_type": "code",
   "execution_count": null,
   "metadata": {
    "collapsed": true
   },
   "outputs": [],
   "source": [
    "x_vals = tf.placeholder(\"float\", [None, n_steps, n_input])\n",
    "y_vals = tf.placeholder(\"float\", [None, n_classes])"
   ]
  },
  {
   "cell_type": "markdown",
   "metadata": {},
   "source": [
    "Initializing variables"
   ]
  },
  {
   "cell_type": "code",
   "execution_count": null,
   "metadata": {
    "collapsed": true
   },
   "outputs": [],
   "source": [
    "weights = tf.Variable(tf.random_uniform(shape=[n_hidden, n_classes],maxval=tf.sqrt(6/(n_hidden+n_classes+0.0)),minval=-tf.sqrt(6/(n_hidden+n_classes+0.0))))\n",
    "biases = tf.Variable(tf.constant([0.0]*n_classes))"
   ]
  },
  {
   "cell_type": "markdown",
   "metadata": {},
   "source": [
    "Defining the RNN layers and model <br>\n",
    "Dropouts and forget_bias is also set\n"
   ]
  },
  {
   "cell_type": "code",
   "execution_count": null,
   "metadata": {
    "collapsed": true
   },
   "outputs": [],
   "source": [
    "def RNN(x, weights, biases):\n",
    "\n",
    "    # Prepare data shape to match `rnn` function requirements\n",
    "    # Current data input shape: (batch_size, n_steps, n_input)\n",
    "    # Required shape: 'n_steps' tensors list of shape (batch_size, n_input)\n",
    "\n",
    "    # Unstack to get a list of 'n_steps' tensors of shape (batch_size, n_input)\n",
    "    x = tf.unstack(x, n_steps, 1)\n",
    "\n",
    "    # Define a lstm cell with tensorflow\n",
    "    cell = tf.contrib.rnn.MultiRNNCell([rnn.DropoutWrapper(rnn.LSTMCell(n_hidden, forget_bias = 1.0), input_keep_prob = 0.8, output_keep_prob = 0.8) for _ in range(num_layers)])\n",
    "\n",
    "    # Get lstm cell output\n",
    "    outputs, states = rnn.static_rnn(cell, x, dtype=tf.float32)\n",
    "\n",
    "    # Linear activation, using rnn inner loop last output\n",
    "    return tf.matmul(outputs[-1], weights) + biases\n",
    "\n",
    "pred = RNN(x, weights, biases)"
   ]
  },
  {
   "cell_type": "markdown",
   "metadata": {},
   "source": [
    "The following code provides gradient clippingto check gradient explosion"
   ]
  },
  {
   "cell_type": "code",
   "execution_count": null,
   "metadata": {
    "collapsed": true
   },
   "outputs": [],
   "source": [
    "optimizer = tf.train.AdamOptimizer(learningRate)\n",
    "gradients, variables = zip(*optimizer.compute_gradients(loss))\n",
    "gradients, _ = tf.clip_by_global_norm(gradients, 5.0)\n",
    "optimize = optimizer.apply_gradients(zip(gradients, variables))\n",
    "optimizer = optimizer.minimize(loss)"
   ]
  },
  {
   "cell_type": "markdown",
   "metadata": {},
   "source": [
    "Tensorflow code for session and variables initialization"
   ]
  },
  {
   "cell_type": "code",
   "execution_count": null,
   "metadata": {
    "collapsed": true
   },
   "outputs": [],
   "source": [
    "# Initializing the variables\n",
    "init = tf.global_variables_initializer()\n",
    "\n",
    "# Add ops to save and restore all the variables.\n",
    "saver = tf.train.Saver()"
   ]
  },
  {
   "cell_type": "markdown",
   "metadata": {},
   "source": [
    "Running the model and evaluating the graph"
   ]
  },
  {
   "cell_type": "code",
   "execution_count": null,
   "metadata": {
    "collapsed": true
   },
   "outputs": [],
   "source": [
    "# Launch the graph\n",
    "\n",
    "with tf.Session() as sess:\n",
    "    # session initialization is not required when using the restored values\n",
    "    \n",
    "    sess.run(init)\n",
    "    #saver.restore(sess, \"/home/ashutosh/Desktop/instacart/model.ckpt\")\n",
    "    step = 1\n",
    "    epoch = 1\n",
    "\n",
    "    # Keep training until reach max iterations\n",
    "    while step < training_iters:\n",
    "\n",
    "        if (step+1)%training_iters/10 == 0:\n",
    "            epoch += 0.5\n",
    "            rate = rate/epoch\n",
    "\n",
    "        batch_size = int(np.random.uniform(16, 32, 1))\n",
    "        rand_index = np.random.choice(len(x_vals_train), size=batch_size)\n",
    "\n",
    "        batch_x = x_vals_train[rand_index]\n",
    "        batch_y = y_vals_train[rand_index]\n",
    "\n",
    "        batch_x = batch_x.reshape((batch_size, n_steps, n_input))\n",
    "\n",
    "        # Run optimization op (backprop)\n",
    "        sess.run(optimizer, feed_dict={x: batch_x, y: batch_y, learningRate : rate})\n",
    "\n",
    "        # Get and store the train loss\n",
    "        train_temp_loss = sess.run(loss, feed_dict={x: x_vals_train, y: y_vals_train, learningRate:rate})\n",
    "        train_loss.append(train_temp_loss)\n",
    "\n",
    "        # Get and store the test loss\n",
    "        test_temp_loss = sess.run(loss, feed_dict={x: x_vals_test, y: y_vals_test})\n",
    "        test_loss.append(test_temp_loss)"
   ]
  }
 ],
 "metadata": {
  "kernelspec": {
   "display_name": "Python 2",
   "language": "python",
   "name": "python2"
  },
  "language_info": {
   "codemirror_mode": {
    "name": "ipython",
    "version": 2
   },
   "file_extension": ".py",
   "mimetype": "text/x-python",
   "name": "python",
   "nbconvert_exporter": "python",
   "pygments_lexer": "ipython2",
   "version": "2.7.12"
  }
 },
 "nbformat": 4,
 "nbformat_minor": 2
}
