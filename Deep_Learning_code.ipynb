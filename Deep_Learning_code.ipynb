{
 "cells": [
  {
   "cell_type": "markdown",
   "metadata": {},
   "source": [
    "Importing the dependencies"
   ]
  },
  {
   "cell_type": "code",
   "execution_count": null,
   "metadata": {
    "collapsed": true
   },
   "outputs": [],
   "source": [
    "from tensorflow.python.framework import ops\n",
    "ops.reset_default_graph()\n",
    "import tensorflow as tf"
   ]
  },
  {
   "cell_type": "markdown",
   "metadata": {},
   "source": [
    "Importing the input files for X and Y"
   ]
  },
  {
   "cell_type": "code",
   "execution_count": null,
   "metadata": {
    "collapsed": true
   },
   "outputs": [],
   "source": [
    "x_vals = np.load(\"X2.npy\")\n",
    "y_vals = np.load(\"Y2.npy\")"
   ]
  },
  {
   "cell_type": "markdown",
   "metadata": {},
   "source": [
    "Seed initialization"
   ]
  },
  {
   "cell_type": "markdown",
   "metadata": {},
   "source": [
    "seed = 0\n",
    "tf.set_random_seed(seed)\n",
    "np.random.seed(seed)"
   ]
  },
  {
   "cell_type": "markdown",
   "metadata": {},
   "source": [
    "Data requirements (placeholders) so that the data is added in the graph"
   ]
  },
  {
   "cell_type": "code",
   "execution_count": null,
   "metadata": {
    "collapsed": true
   },
   "outputs": [],
   "source": [
    "x_data = tf.placeholder(shape=[None, len(products)], dtype=tf.float32)\n",
    "y_data = tf.placeholder(shape=[None, len(products)], dtype=tf.float32)\n",
    "learningRate = tf.placeholder(dtype=tf.float32)"
   ]
  },
  {
   "cell_type": "markdown",
   "metadata": {},
   "source": [
    "Assigning training and validation (test) data set"
   ]
  },
  {
   "cell_type": "code",
   "execution_count": null,
   "metadata": {
    "collapsed": true
   },
   "outputs": [],
   "source": [
    "train_indices = np.random.choice(len(x_vals), int(len(x_vals) * 0.8), replace=False)\n",
    "test_indices = np.array(list(set(range(len(x_vals))) - set(train_indices)))\n",
    "\n",
    "x_vals_train = x_vals[train_indices]\n",
    "x_vals_test = x_vals[test_indices]\n",
    "y_vals_train = y_vals[train_indices]\n",
    "y_vals_test = y_vals[test_indices]"
   ]
  },
  {
   "cell_type": "markdown",
   "metadata": {},
   "source": [
    "Setting the hidden layers (an example of 5) <br>\n",
    "Ensuring that the matrix dimensions are consistent for matrix multiplication\n",
    "\n",
    "Initialization for the variables is based on the values suggested in Deep Learning Book by Ian Goodfellow<br>\n",
    "The variables ar initialized with uniform random"
   ]
  },
  {
   "cell_type": "code",
   "execution_count": null,
   "metadata": {
    "collapsed": true
   },
   "outputs": [],
   "source": [
    "h1 = 80\n",
    "h2 = 80\n",
    "h3 = 80\n",
    "h4 = 80\n",
    "h5 = 20\n",
    "\n",
    "m = 6\n",
    "\n",
    "A1 = tf.Variable(tf.random_uniform(shape=[p,h1],maxval=tf.sqrt(m/(p+h1+0.0)),minval=-tf.sqrt(m/(p+h1+0.0))))\n",
    "b1 = tf.Variable(tf.constant([0.0]*h1))\n",
    "A2 = tf.Variable(tf.random_uniform(shape=[h1,h2],maxval=tf.sqrt(m/(h1+h2+0.0)),minval=-tf.sqrt(m/(h1+h2+0.0))))\n",
    "b2 = tf.Variable(tf.constant([0.0]*h2))\n",
    "A3 = tf.Variable(tf.random_uniform(shape=[h2,h3],maxval=tf.sqrt(m/(h2+p+0.0)),minval=-tf.sqrt(m/(h2+p+0.0)))) #tf.Variable(tf.random_normal(shape=[h2,h3],stddev= 2))\n",
    "b3 = tf.Variable(tf.constant([0.0]*h3))\n",
    "A4 = tf.Variable(tf.random_uniform(shape=[h3,h4],maxval=tf.sqrt(m/(h3+h4+0.0)),minval=-tf.sqrt(m/(h3+h4+0.0)))) #tf.Variable(tf.random_normal(shape=[h2,h3],stddev= 2))\n",
    "b4 = tf.Variable(tf.constant([0.0]*h4))\n",
    "A5 = tf.Variable(tf.random_uniform(shape=[h4,h5],maxval=tf.sqrt(m/(h4+h5+0.0)),minval=-tf.sqrt(m/(h4+h5+0.0)))) #tf.Variable(tf.random_normal(shape=[h2,h3],stddev= 2))\n",
    "b5 = tf.Variable(tf.constant([0.0]*h5))\n",
    "A6 = tf.Variable(tf.random_uniform(shape=[h5,p],maxval=tf.sqrt(m/(h5+p+0.0)),minval=-tf.sqrt(m/(h5+p+0.0)))) #tf.Variable(tf.random_normal(shape=[h2,h3],stddev= 2))\n",
    "b6 = tf.Variable(tf.constant([0.0]*p))"
   ]
  },
  {
   "cell_type": "markdown",
   "metadata": {},
   "source": [
    "Setting up the activation functions for different layers"
   ]
  },
  {
   "cell_type": "code",
   "execution_count": null,
   "metadata": {
    "collapsed": true
   },
   "outputs": [],
   "source": [
    "output1 = tf.nn.relu6(tf.add(tf.matmul(x_data, A1),b1))\n",
    "output2 = tf.nn.relu6(tf.add(tf.matmul(output1, A2),b2))\n",
    "output3 = tf.nn.relu6(tf.add(tf.matmul(output2, A3),b3))\n",
    "output4 = tf.nn.relu6(tf.add(tf.matmul(output3, A4),b4))\n",
    "output5 = tf.nn.relu6(tf.add(tf.matmul(output4, A5),b5))\n",
    "output6 = tf.nn.sigmoid(tf.add(tf.matmul(output5, A6),b6))"
   ]
  },
  {
   "cell_type": "markdown",
   "metadata": {},
   "source": [
    "Setting the loss function as simple squared loss"
   ]
  },
  {
   "cell_type": "code",
   "execution_count": null,
   "metadata": {
    "collapsed": true
   },
   "outputs": [],
   "source": [
    "loss = tf.reduce_mean(tf.squared_difference(output6, y_data))"
   ]
  },
  {
   "cell_type": "markdown",
   "metadata": {},
   "source": [
    "Setting the dropouts for regularization"
   ]
  },
  {
   "cell_type": "code",
   "execution_count": null,
   "metadata": {
    "collapsed": true
   },
   "outputs": [],
   "source": [
    "d1 = 0.2\n",
    "d2 = 0.2\n",
    "d3 = 0.2\n",
    "d4 = 0.2\n",
    "d5 = 0.2\n",
    "d6 = 0.2\n",
    "\n",
    "kp1   = tf.placeholder(dtype=tf.float32)\n",
    "drop1 = tf.nn.dropout(output1,kp1)\n",
    "kp2   = tf.placeholder(dtype=tf.float32)\n",
    "drop2 = tf.nn.dropout(output2,kp2)\n",
    "kp3   = tf.placeholder(dtype=tf.float32)\n",
    "drop3 = tf.nn.dropout(output3,kp3)\n",
    "kp4   = tf.placeholder(dtype=tf.float32)\n",
    "drop4 = tf.nn.dropout(output4,kp4)\n",
    "kp5   = tf.placeholder(dtype=tf.float32)\n",
    "drop5 = tf.nn.dropout(output5,kp5)\n",
    "kp6   = tf.placeholder(dtype=tf.float32)\n",
    "drop6 = tf.nn.dropout(output6,kp6)"
   ]
  },
  {
   "cell_type": "markdown",
   "metadata": {},
   "source": [
    "Running the code from previously saved state (do not initialize)"
   ]
  },
  {
   "cell_type": "code",
   "execution_count": null,
   "metadata": {
    "collapsed": true
   },
   "outputs": [],
   "source": [
    "# Add ops to save and restore all the variables.\n",
    "saver = tf.train.Saver()\n",
    "#sess.run(init)\n",
    "saver.restore(sess, \"/home/ashutosh/Desktop/instacart/model_non_lstm_relu.ckpt\")"
   ]
  },
  {
   "cell_type": "markdown",
   "metadata": {},
   "source": [
    "Running the model for user defined number of iterations<br>\n",
    "Changing the learning rate over time"
   ]
  },
  {
   "cell_type": "code",
   "execution_count": null,
   "metadata": {
    "collapsed": true
   },
   "outputs": [],
   "source": [
    "epoch = 1\n",
    "r_rate = 0.00005\n",
    "\n",
    "for i in range(iterations):\n",
    "    batch_size = 64#int(np.random.uniform(16,32,1))\n",
    "    # Choose random indices for batch selection\n",
    "    rand_index = np.random.choice(len(x_vals_train), size=batch_size)\n",
    "    # Get random batch\n",
    "    rand_x = x_vals_train[rand_index]\n",
    "    rand_y = y_vals_train[rand_index]\n",
    "\n",
    "    if i%1000 == 0:\n",
    "        epoch += 0.05\n",
    "        rate = r_rate/epoch\n",
    "\n",
    "    # Run the training step\n",
    "    sess.run(train_step, feed_dict={x_data: rand_x, y_data:rand_y, learningRate: rate, kp1:d1, kp2:d2, kp3:d3, kp4:d4})\n",
    "\n",
    "    # Get and store the train loss\n",
    "    temp_loss = sess.run(loss, feed_dict={x_data: x_vals_train, y_data: y_vals_train})\n",
    "    loss_vec.append(temp_loss)\n",
    "    # Get and store the test loss\n",
    "    test_temp_loss = sess.run(loss, feed_dict={x_data: x_vals_test, y_data: y_vals_test})\n",
    "    test_loss.append(test_temp_loss)"
   ]
  },
  {
   "cell_type": "code",
   "execution_count": null,
   "metadata": {
    "collapsed": true
   },
   "outputs": [],
   "source": []
  },
  {
   "cell_type": "code",
   "execution_count": null,
   "metadata": {
    "collapsed": true
   },
   "outputs": [],
   "source": []
  }
 ],
 "metadata": {
  "kernelspec": {
   "display_name": "Python 2",
   "language": "python",
   "name": "python2"
  },
  "language_info": {
   "codemirror_mode": {
    "name": "ipython",
    "version": 2
   },
   "file_extension": ".py",
   "mimetype": "text/x-python",
   "name": "python",
   "nbconvert_exporter": "python",
   "pygments_lexer": "ipython2",
   "version": "2.7.12"
  }
 },
 "nbformat": 4,
 "nbformat_minor": 2
}
